{
 "cells": [
  {
   "cell_type": "code",
   "execution_count": 62,
   "metadata": {
    "collapsed": true
   },
   "outputs": [],
   "source": [
    "import pandas as pd\n",
    "import numpy as np\n",
    "import datetime as dt\n",
    "import pickle"
   ]
  },
  {
   "cell_type": "code",
   "execution_count": 63,
   "metadata": {
    "collapsed": true
   },
   "outputs": [],
   "source": [
    "data = pd.read_csv('training/trajectories(table 5)_training.csv')"
   ]
  },
  {
   "cell_type": "code",
   "execution_count": 64,
   "metadata": {
    "collapsed": false
   },
   "outputs": [],
   "source": [
    "data = data.drop('intersection_id',axis=1).drop('tollgate_id',axis=1).drop('vehicle_id',axis=1).drop('travel_time',axis=1)\n",
    "\n",
    "# time quantization by 20 min\n",
    "data['starting_time'] =  pd.to_datetime(data['starting_time'], format = \"%Y-%m-%d %H:%M:%S\")\n",
    "\n",
    "st = []\n",
    "for c in data['starting_time']:\n",
    "    st.append(c - dt.timedelta(seconds = c.second, minutes = c.minute % 20))\n",
    "data['starting_time'] = st"
   ]
  },
  {
   "cell_type": "code",
   "execution_count": 65,
   "metadata": {
    "collapsed": false
   },
   "outputs": [
    {
     "data": {
      "text/plain": [
       "{'100': '3',\n",
       " '101': '5',\n",
       " '102': '7',\n",
       " '103': '4',\n",
       " '104': '7',\n",
       " '105': '3',\n",
       " '106': '5',\n",
       " '107': '0',\n",
       " '108': '0',\n",
       " '109': '7',\n",
       " '110': '0',\n",
       " '111': '4',\n",
       " '112': '7',\n",
       " '113': '5',\n",
       " '114': '2',\n",
       " '115': '7',\n",
       " '116': '5',\n",
       " '117': '1',\n",
       " '118': '2',\n",
       " '119': '2',\n",
       " '120': '1',\n",
       " '121': '5',\n",
       " '122': '6',\n",
       " '123': '0'}"
      ]
     },
     "execution_count": 65,
     "metadata": {},
     "output_type": "execute_result"
    }
   ],
   "source": [
    "section = {'110':'0', '123':'0', '107':'0', '108':'0', '120':'1', '117':'1', '119':'2', '114':'2', '118':'2', '122':'2', '105':'3', '100':'3', '111':'4', '103':'4', '116':'5', '101':'5', '121':'5', '106':'5', '113':'5', '122':'6', '115':'7', '102':'7', '109':'7', '104':'7', '112':'7'}\n",
    "section"
   ]
  },
  {
   "cell_type": "code",
   "execution_count": 66,
   "metadata": {
    "collapsed": false
   },
   "outputs": [
    {
     "name": "stdout",
     "output_type": "stream",
     "text": [
      "{'3': '16.31', '4': '20.47', '6': '32.85'}\n",
      "{'3': '19.02', '4': '22.18', '6': '104.79'}\n"
     ]
    },
    {
     "data": {
      "text/html": [
       "<div>\n",
       "<table border=\"1\" class=\"dataframe\">\n",
       "  <thead>\n",
       "    <tr style=\"text-align: right;\">\n",
       "      <th></th>\n",
       "      <th>starting_time</th>\n",
       "      <th>road_section</th>\n",
       "      <th>travel_time</th>\n",
       "    </tr>\n",
       "  </thead>\n",
       "  <tbody>\n",
       "    <tr>\n",
       "      <th>0</th>\n",
       "      <td>2016-07-19 00:00:00</td>\n",
       "      <td>3</td>\n",
       "      <td>16.31</td>\n",
       "    </tr>\n",
       "    <tr>\n",
       "      <th>1</th>\n",
       "      <td>2016-07-19 00:00:00</td>\n",
       "      <td>4</td>\n",
       "      <td>20.47</td>\n",
       "    </tr>\n",
       "    <tr>\n",
       "      <th>2</th>\n",
       "      <td>2016-07-19 00:00:00</td>\n",
       "      <td>6</td>\n",
       "      <td>32.85</td>\n",
       "    </tr>\n",
       "    <tr>\n",
       "      <th>3</th>\n",
       "      <td>2016-07-19 00:20:00</td>\n",
       "      <td>3</td>\n",
       "      <td>19.02</td>\n",
       "    </tr>\n",
       "    <tr>\n",
       "      <th>4</th>\n",
       "      <td>2016-07-19 00:20:00</td>\n",
       "      <td>4</td>\n",
       "      <td>22.18</td>\n",
       "    </tr>\n",
       "    <tr>\n",
       "      <th>5</th>\n",
       "      <td>2016-07-19 00:20:00</td>\n",
       "      <td>6</td>\n",
       "      <td>104.79</td>\n",
       "    </tr>\n",
       "  </tbody>\n",
       "</table>\n",
       "</div>"
      ],
      "text/plain": [
       "        starting_time road_section travel_time\n",
       "0 2016-07-19 00:00:00            3       16.31\n",
       "1 2016-07-19 00:00:00            4       20.47\n",
       "2 2016-07-19 00:00:00            6       32.85\n",
       "3 2016-07-19 00:20:00            3       19.02\n",
       "4 2016-07-19 00:20:00            4       22.18\n",
       "5 2016-07-19 00:20:00            6      104.79"
      ]
     },
     "execution_count": 66,
     "metadata": {},
     "output_type": "execute_result"
    }
   ],
   "source": [
    "test = pd.DataFrame()\n",
    "\n",
    "temp = []\n",
    "\n",
    "for row in data.iloc[:2].itertuples():\n",
    "    link_list = row.travel_seq.split(';')\n",
    "    section_dict = {}\n",
    "    for link in link_list:\n",
    "        link_attributes = link.split('#')\n",
    "        del link_attributes[1]\n",
    "        link_attributes[0] = section.get(link_attributes[0])\n",
    "        if link_attributes[0] in section_dict:\n",
    "            section_dict[link_attributes[0]] = \"%.2f\" % (float(section_dict[link_attributes[0]]) + float(link_attributes[1]))\n",
    "        else:\n",
    "            section_dict[link_attributes[0]] = link_attributes[1]\n",
    "    print(section_dict)\n",
    "    for section_key in section_dict:\n",
    "        temp.append([row.starting_time, section_key, section_dict[section_key]])\n",
    "test = pd.DataFrame(temp)\n",
    "test.columns = ['starting_time', 'road_section', 'travel_time']\n",
    "test"
   ]
  },
  {
   "cell_type": "code",
   "execution_count": null,
   "metadata": {
    "collapsed": true
   },
   "outputs": [],
   "source": []
  }
 ],
 "metadata": {
  "kernelspec": {
   "display_name": "Python 3",
   "language": "python",
   "name": "python3"
  },
  "language_info": {
   "codemirror_mode": {
    "name": "ipython",
    "version": 3
   },
   "file_extension": ".py",
   "mimetype": "text/x-python",
   "name": "python",
   "nbconvert_exporter": "python",
   "pygments_lexer": "ipython3",
   "version": "3.6.0"
  }
 },
 "nbformat": 4,
 "nbformat_minor": 2
}
